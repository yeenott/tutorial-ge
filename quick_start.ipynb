{
 "cells": [
  {
   "cell_type": "markdown",
   "id": "0b3fdf60",
   "metadata": {},
   "source": [
    "# Standalone Data Valiation with Great_Expecations in a Notebook"
   ]
  },
  {
   "cell_type": "code",
   "execution_count": 1,
   "id": "ffe20865",
   "metadata": {},
   "outputs": [],
   "source": [
    "import numpy as np\n",
    "import pandas as pd\n",
    "import os \n",
    "import great_expectations as ge\n",
    "from IPython.core.interactiveshell import InteractiveShell\n",
    "InteractiveShell.ast_node_interactivity = \"all\""
   ]
  },
  {
   "cell_type": "markdown",
   "id": "7092ce09",
   "metadata": {},
   "source": [
    "## 1. Loading data\n",
    "\n",
    "### 1.1 from local csv file"
   ]
  },
  {
   "cell_type": "code",
   "execution_count": 2,
   "id": "360f0aef",
   "metadata": {},
   "outputs": [
    {
     "data": {
      "text/html": [
       "<div>\n",
       "<style scoped>\n",
       "    .dataframe tbody tr th:only-of-type {\n",
       "        vertical-align: middle;\n",
       "    }\n",
       "\n",
       "    .dataframe tbody tr th {\n",
       "        vertical-align: top;\n",
       "    }\n",
       "\n",
       "    .dataframe thead th {\n",
       "        text-align: right;\n",
       "    }\n",
       "</style>\n",
       "<table border=\"1\" class=\"dataframe\">\n",
       "  <thead>\n",
       "    <tr style=\"text-align: right;\">\n",
       "      <th></th>\n",
       "      <th>pt_id</th>\n",
       "      <th>dos</th>\n",
       "      <th>dx_code</th>\n",
       "    </tr>\n",
       "  </thead>\n",
       "  <tbody>\n",
       "    <tr>\n",
       "      <th>0</th>\n",
       "      <td>13151</td>\n",
       "      <td>2018-04-10</td>\n",
       "      <td>H35.3231</td>\n",
       "    </tr>\n",
       "    <tr>\n",
       "      <th>1</th>\n",
       "      <td>13151</td>\n",
       "      <td>2018-05-22</td>\n",
       "      <td>H35.3231</td>\n",
       "    </tr>\n",
       "    <tr>\n",
       "      <th>2</th>\n",
       "      <td>13151</td>\n",
       "      <td>2018-07-17</td>\n",
       "      <td>H35.3220</td>\n",
       "    </tr>\n",
       "    <tr>\n",
       "      <th>3</th>\n",
       "      <td>13151</td>\n",
       "      <td>2018-09-25</td>\n",
       "      <td>H35.3220</td>\n",
       "    </tr>\n",
       "    <tr>\n",
       "      <th>4</th>\n",
       "      <td>13151</td>\n",
       "      <td>2018-12-18</td>\n",
       "      <td>H35.3220</td>\n",
       "    </tr>\n",
       "  </tbody>\n",
       "</table>\n",
       "</div>"
      ],
      "text/plain": [
       "   pt_id         dos   dx_code\n",
       "0  13151  2018-04-10  H35.3231\n",
       "1  13151  2018-05-22  H35.3231\n",
       "2  13151  2018-07-17  H35.3220\n",
       "3  13151  2018-09-25  H35.3220\n",
       "4  13151  2018-12-18  H35.3220"
      ]
     },
     "execution_count": 2,
     "metadata": {},
     "output_type": "execute_result"
    },
    {
     "data": {
      "text/plain": [
       "pt_id       int64\n",
       "dos        object\n",
       "dx_code    object\n",
       "dtype: object"
      ]
     },
     "execution_count": 2,
     "metadata": {},
     "output_type": "execute_result"
    }
   ],
   "source": [
    "dx_df = ge.read_csv(\n",
    "    \"../../rwd_data_quality/data/diagnosis.csv\",\n",
    "     sep=\"\\t\")\n",
    "dx_df.head()\n",
    "dx_df.dtypes"
   ]
  },
  {
   "cell_type": "code",
   "execution_count": 3,
   "id": "bdd32b82",
   "metadata": {},
   "outputs": [
    {
     "data": {
      "text/html": [
       "<div>\n",
       "<style scoped>\n",
       "    .dataframe tbody tr th:only-of-type {\n",
       "        vertical-align: middle;\n",
       "    }\n",
       "\n",
       "    .dataframe tbody tr th {\n",
       "        vertical-align: top;\n",
       "    }\n",
       "\n",
       "    .dataframe thead th {\n",
       "        text-align: right;\n",
       "    }\n",
       "</style>\n",
       "<table border=\"1\" class=\"dataframe\">\n",
       "  <thead>\n",
       "    <tr style=\"text-align: right;\">\n",
       "      <th></th>\n",
       "      <th>patient_id</th>\n",
       "      <th>dos</th>\n",
       "      <th>procedure_code</th>\n",
       "      <th>mod</th>\n",
       "    </tr>\n",
       "  </thead>\n",
       "  <tbody>\n",
       "    <tr>\n",
       "      <th>0</th>\n",
       "      <td>10026</td>\n",
       "      <td>12/14/19</td>\n",
       "      <td>2027F</td>\n",
       "      <td>NaN</td>\n",
       "    </tr>\n",
       "    <tr>\n",
       "      <th>1</th>\n",
       "      <td>10026</td>\n",
       "      <td>11/13/19</td>\n",
       "      <td>92014</td>\n",
       "      <td>25</td>\n",
       "    </tr>\n",
       "    <tr>\n",
       "      <th>2</th>\n",
       "      <td>10026</td>\n",
       "      <td>11/6/19</td>\n",
       "      <td>G8427</td>\n",
       "      <td>NaN</td>\n",
       "    </tr>\n",
       "    <tr>\n",
       "      <th>3</th>\n",
       "      <td>10026</td>\n",
       "      <td>10/2/19</td>\n",
       "      <td>92134</td>\n",
       "      <td>NaN</td>\n",
       "    </tr>\n",
       "    <tr>\n",
       "      <th>4</th>\n",
       "      <td>10026</td>\n",
       "      <td>9/23/19</td>\n",
       "      <td>92014</td>\n",
       "      <td>25</td>\n",
       "    </tr>\n",
       "  </tbody>\n",
       "</table>\n",
       "</div>"
      ],
      "text/plain": [
       "   patient_id       dos procedure_code  mod\n",
       "0       10026  12/14/19          2027F  NaN\n",
       "1       10026  11/13/19          92014   25\n",
       "2       10026   11/6/19          G8427  NaN\n",
       "3       10026   10/2/19          92134  NaN\n",
       "4       10026   9/23/19          92014   25"
      ]
     },
     "execution_count": 3,
     "metadata": {},
     "output_type": "execute_result"
    },
    {
     "data": {
      "text/plain": [
       "(5222, 4)"
      ]
     },
     "execution_count": 3,
     "metadata": {},
     "output_type": "execute_result"
    },
    {
     "data": {
      "text/plain": [
       "patient_id         int64\n",
       "dos               object\n",
       "procedure_code    object\n",
       "mod               object\n",
       "dtype: object"
      ]
     },
     "execution_count": 3,
     "metadata": {},
     "output_type": "execute_result"
    }
   ],
   "source": [
    "pc_df = ge.read_csv(\n",
    "    \"../../rwd_data_quality/data/procedure.csv\",\n",
    "     sep=\"\\t\")\n",
    "pc_df.head()\n",
    "pc_df.shape\n",
    "pc_df.dtypes"
   ]
  },
  {
   "cell_type": "code",
   "execution_count": 4,
   "id": "da24659f",
   "metadata": {},
   "outputs": [
    {
     "data": {
      "text/html": [
       "<div>\n",
       "<style scoped>\n",
       "    .dataframe tbody tr th:only-of-type {\n",
       "        vertical-align: middle;\n",
       "    }\n",
       "\n",
       "    .dataframe tbody tr th {\n",
       "        vertical-align: top;\n",
       "    }\n",
       "\n",
       "    .dataframe thead th {\n",
       "        text-align: right;\n",
       "    }\n",
       "</style>\n",
       "<table border=\"1\" class=\"dataframe\">\n",
       "  <thead>\n",
       "    <tr style=\"text-align: right;\">\n",
       "      <th></th>\n",
       "      <th>patientid</th>\n",
       "      <th>sex</th>\n",
       "    </tr>\n",
       "  </thead>\n",
       "  <tbody>\n",
       "    <tr>\n",
       "      <th>0</th>\n",
       "      <td>13151</td>\n",
       "      <td>Female</td>\n",
       "    </tr>\n",
       "    <tr>\n",
       "      <th>1</th>\n",
       "      <td>43463</td>\n",
       "      <td>Female</td>\n",
       "    </tr>\n",
       "    <tr>\n",
       "      <th>2</th>\n",
       "      <td>42834</td>\n",
       "      <td>Male</td>\n",
       "    </tr>\n",
       "    <tr>\n",
       "      <th>3</th>\n",
       "      <td>37531</td>\n",
       "      <td>Female</td>\n",
       "    </tr>\n",
       "    <tr>\n",
       "      <th>4</th>\n",
       "      <td>31613</td>\n",
       "      <td>Female</td>\n",
       "    </tr>\n",
       "  </tbody>\n",
       "</table>\n",
       "</div>"
      ],
      "text/plain": [
       "   patientid     sex\n",
       "0      13151  Female\n",
       "1      43463  Female\n",
       "2      42834    Male\n",
       "3      37531  Female\n",
       "4      31613  Female"
      ]
     },
     "execution_count": 4,
     "metadata": {},
     "output_type": "execute_result"
    },
    {
     "data": {
      "text/plain": [
       "(945, 2)"
      ]
     },
     "execution_count": 4,
     "metadata": {},
     "output_type": "execute_result"
    },
    {
     "data": {
      "text/plain": [
       "patientid     int64\n",
       "sex          object\n",
       "dtype: object"
      ]
     },
     "execution_count": 4,
     "metadata": {},
     "output_type": "execute_result"
    }
   ],
   "source": [
    "pt_df = ge.read_csv(\n",
    "    \"../../rwd_data_quality/data/patient.csv\",\n",
    "     sep=\"\\t\")\n",
    "pt_df.head()\n",
    "pt_df.shape\n",
    "pt_df.dtypes"
   ]
  },
  {
   "cell_type": "markdown",
   "id": "8feffad1",
   "metadata": {},
   "source": [
    "### 1.2 from Pandas Dataframe or Spark DataFrame"
   ]
  },
  {
   "cell_type": "markdown",
   "id": "334c8f93",
   "metadata": {},
   "source": [
    "my_df = ge.from_pandas(\n",
    "    my_pandas_dataframe\n",
    ")"
   ]
  },
  {
   "cell_type": "markdown",
   "id": "1a64c094",
   "metadata": {},
   "source": [
    "from great_expectations.dataset.sparkdf_dataset import SparkDFDataset\n",
    "\n",
    "my_df = SparkDFDataset(my_spark_dataframe)"
   ]
  },
  {
   "cell_type": "code",
   "execution_count": 5,
   "id": "8372053c",
   "metadata": {},
   "outputs": [
    {
     "data": {
      "text/plain": [
       "2016-06-29    60\n",
       "2016-01-08    50\n",
       "2015-12-21    48\n",
       "2016-08-16    48\n",
       "2015-11-23    45\n",
       "              ..\n",
       "2019-10-31     1\n",
       "2018-02-27     1\n",
       "2016-09-19     1\n",
       "2019-04-23     1\n",
       "2017-03-01     1\n",
       "Name: dos, Length: 685, dtype: int64"
      ]
     },
     "execution_count": 5,
     "metadata": {},
     "output_type": "execute_result"
    }
   ],
   "source": [
    "dx_df.dos.value_counts()"
   ]
  },
  {
   "cell_type": "markdown",
   "id": "436586d9",
   "metadata": {},
   "source": [
    "## 2. Exploring data and adding expectations \n",
    "\n",
    "### 2.1. String matching with Regex\n",
    "\n",
    "#### 2.1.1. ICD-9-CM \n",
    "\n",
    "Most ICD-9 diagnosis codes are just numbers, but they may also start with E or V. \n",
    "\n",
    "* Numeric ICD-9 codes are at least three digits. Optionally there may be a decimal followed by one of two more digits.\n",
    "* An E code begins with E and three digits. These may be followed by a decimal and one more digit.\n",
    "* A V code begins with a V followed by two digits. These may be followed by a decimal and one or two more digits.\n",
    "\n",
    "Sometimes the decimals are left out. Here are regular expressions that summarize the discussion above."
   ]
  },
  {
   "cell_type": "code",
   "execution_count": 6,
   "id": "30fb1958",
   "metadata": {},
   "outputs": [],
   "source": [
    "N = \"\\d{3}\\.?\\d{0,2}\"\n",
    "E = \"E\\d{3}\\.?\\d?\"\n",
    "V = \"V\\d{2}\\.?\\d{0,2}\"\n",
    "icd9_regex = \"|\".join([N, E, V])"
   ]
  },
  {
   "cell_type": "code",
   "execution_count": 7,
   "id": "b3cb99ac",
   "metadata": {},
   "outputs": [
    {
     "data": {
      "text/plain": [
       "{\n",
       "  \"exception_info\": {\n",
       "    \"raised_exception\": false,\n",
       "    \"exception_traceback\": null,\n",
       "    \"exception_message\": null\n",
       "  },\n",
       "  \"meta\": {},\n",
       "  \"result\": {\n",
       "    \"element_count\": 4672,\n",
       "    \"missing_count\": 0,\n",
       "    \"missing_percent\": 0.0,\n",
       "    \"unexpected_count\": 1632,\n",
       "    \"unexpected_percent\": 34.93150684931507,\n",
       "    \"unexpected_percent_total\": 34.93150684931507,\n",
       "    \"unexpected_percent_nonmissing\": 34.93150684931507,\n",
       "    \"partial_unexpected_list\": [\n",
       "      \"H35.32\",\n",
       "      \"H35.32\",\n",
       "      \"H34.12\",\n",
       "      \"H35.81\",\n",
       "      \"H35.32\",\n",
       "      \"H35.81\",\n",
       "      \"H25.13\",\n",
       "      \"H25.13\",\n",
       "      \"H35.32\",\n",
       "      \"H43.13\",\n",
       "      \"H35.32\",\n",
       "      \"E78.00\",\n",
       "      \"H35.32\",\n",
       "      \"H35.32\",\n",
       "      \"H35.32\",\n",
       "      \"H35.32\",\n",
       "      \"H35.32\",\n",
       "      \"H35.32\",\n",
       "      \"E11.9\",\n",
       "      \"H35.32\"\n",
       "    ]\n",
       "  },\n",
       "  \"success\": false\n",
       "}"
      ]
     },
     "execution_count": 7,
     "metadata": {},
     "output_type": "execute_result"
    }
   ],
   "source": [
    "dx_df.expect_column_values_to_match_regex('dx_code', icd9_regex)"
   ]
  },
  {
   "cell_type": "markdown",
   "id": "815058c8",
   "metadata": {},
   "source": [
    "#### 2.1.2. Regular Expression for ICD-10-CM Code \n",
    "ICD-10 diagnosis codes always begin with a letter (except U) followed by a digit. The third character is usually a digit, but could be an A or B. After the first three characters, there may be a decimal point, and up to three more alphanumeric characters. These alphanumeric characters are never U. Sometimes the decimal is left out. So the following regular expression would match any ICD-10 diagnosis code."
   ]
  },
  {
   "cell_type": "code",
   "execution_count": 8,
   "id": "01b05183",
   "metadata": {},
   "outputs": [],
   "source": [
    "icd10_regex=r\"(?i)[A-TV-Z][0-9][0-9AB]\\.?[0-9A-TV-Z]{0,4}\""
   ]
  },
  {
   "cell_type": "code",
   "execution_count": 9,
   "id": "a99fe4be",
   "metadata": {},
   "outputs": [
    {
     "data": {
      "text/plain": [
       "{\n",
       "  \"exception_info\": {\n",
       "    \"raised_exception\": false,\n",
       "    \"exception_traceback\": null,\n",
       "    \"exception_message\": null\n",
       "  },\n",
       "  \"meta\": {},\n",
       "  \"result\": {\n",
       "    \"element_count\": 4672,\n",
       "    \"missing_count\": 0,\n",
       "    \"missing_percent\": 0.0,\n",
       "    \"unexpected_count\": 1460,\n",
       "    \"unexpected_percent\": 31.25,\n",
       "    \"unexpected_percent_total\": 31.25,\n",
       "    \"unexpected_percent_nonmissing\": 31.25,\n",
       "    \"partial_unexpected_list\": [\n",
       "      \"312912001\",\n",
       "      \"312912001\",\n",
       "      \"36252\",\n",
       "      \"362.52\",\n",
       "      \"362.52\",\n",
       "      \"312912001\",\n",
       "      \"362.52\",\n",
       "      \"362.52\",\n",
       "      \"362.52\",\n",
       "      \"362.52\",\n",
       "      \"362.52\",\n",
       "      \"362.52\",\n",
       "      \"362.52\",\n",
       "      \"362.52\",\n",
       "      \"362.52\",\n",
       "      \"362.52\",\n",
       "      \"362.02\",\n",
       "      \"362.02\",\n",
       "      \"362.02\",\n",
       "      \"362.02\"\n",
       "    ]\n",
       "  },\n",
       "  \"success\": false\n",
       "}"
      ]
     },
     "execution_count": 9,
     "metadata": {},
     "output_type": "execute_result"
    }
   ],
   "source": [
    "dx_df.expect_column_values_to_match_regex(\n",
    "    'dx_code', \n",
    "    icd10_regex\n",
    ")"
   ]
  },
  {
   "cell_type": "markdown",
   "id": "bf526369",
   "metadata": {},
   "source": [
    "#### 2.1.3. PCT, HCPCS code Format"
   ]
  },
  {
   "cell_type": "markdown",
   "id": "ea657d73",
   "metadata": {},
   "source": [
    "#### 2.1.4. Diagnosis codes of a certain disease\n",
    "[age-related macular degeneration](https://mdinteractive.com/MIPS_ophthalmology)"
   ]
  },
  {
   "cell_type": "code",
   "execution_count": 10,
   "id": "6ee1b8ad",
   "metadata": {},
   "outputs": [
    {
     "data": {
      "text/plain": [
       "{\n",
       "  \"exception_info\": {\n",
       "    \"raised_exception\": false,\n",
       "    \"exception_traceback\": null,\n",
       "    \"exception_message\": null\n",
       "  },\n",
       "  \"meta\": {},\n",
       "  \"result\": {\n",
       "    \"element_count\": 4672,\n",
       "    \"missing_count\": 0,\n",
       "    \"missing_percent\": 0.0,\n",
       "    \"unexpected_count\": 3379,\n",
       "    \"unexpected_percent\": 72.32448630136986,\n",
       "    \"unexpected_percent_total\": 72.32448630136986,\n",
       "    \"unexpected_percent_nonmissing\": 72.32448630136986,\n",
       "    \"partial_unexpected_list\": [\n",
       "      \"312912001\",\n",
       "      \"312912001\",\n",
       "      \"H35.3112\",\n",
       "      \"312912001\",\n",
       "      \"H43.811\",\n",
       "      \"H34.12\",\n",
       "      \"H35.81\",\n",
       "      \"H02.403\",\n",
       "      \"362.02\",\n",
       "      \"362.02\",\n",
       "      \"362.02\",\n",
       "      \"362.02\",\n",
       "      \"374.3\",\n",
       "      \"H02.403\",\n",
       "      \"H43.812\",\n",
       "      \"H04.123\",\n",
       "      \"H35.81\",\n",
       "      \"H25.13\",\n",
       "      \"H25.13\",\n",
       "      \"H43.813\"\n",
       "    ]\n",
       "  },\n",
       "  \"success\": false\n",
       "}"
      ]
     },
     "execution_count": 10,
     "metadata": {},
     "output_type": "execute_result"
    }
   ],
   "source": [
    "wamd_re = r\"(?i)(H35.?32)|(362.?52)|(414173003)\"  #(?i) case insensitive\n",
    "dx_df.expect_column_values_to_match_regex('dx_code', \n",
    "                                          wamd_re, \n",
    "                                          mostly=1,\n",
    "                                          result_format={'result_format': 'BASIC'},\n",
    "                                         )"
   ]
  },
  {
   "cell_type": "markdown",
   "id": "51a1c66b",
   "metadata": {},
   "source": [
    "### 2.2. Misssing values"
   ]
  },
  {
   "cell_type": "code",
   "execution_count": 28,
   "id": "1d9b8051",
   "metadata": {},
   "outputs": [
    {
     "data": {
      "text/plain": [
       "{\n",
       "  \"exception_info\": {\n",
       "    \"raised_exception\": false,\n",
       "    \"exception_traceback\": null,\n",
       "    \"exception_message\": null\n",
       "  },\n",
       "  \"meta\": {},\n",
       "  \"result\": {\n",
       "    \"element_count\": 4672,\n",
       "    \"unexpected_count\": 0,\n",
       "    \"unexpected_percent\": 0.0,\n",
       "    \"unexpected_percent_total\": 0.0,\n",
       "    \"partial_unexpected_list\": []\n",
       "  },\n",
       "  \"success\": true\n",
       "}"
      ]
     },
     "execution_count": 28,
     "metadata": {},
     "output_type": "execute_result"
    },
    {
     "data": {
      "text/plain": [
       "{\n",
       "  \"exception_info\": {\n",
       "    \"raised_exception\": false,\n",
       "    \"exception_traceback\": null,\n",
       "    \"exception_message\": null\n",
       "  },\n",
       "  \"meta\": {},\n",
       "  \"result\": {\n",
       "    \"element_count\": 4672,\n",
       "    \"unexpected_count\": 0,\n",
       "    \"unexpected_percent\": 0.0,\n",
       "    \"unexpected_percent_total\": 0.0,\n",
       "    \"partial_unexpected_list\": []\n",
       "  },\n",
       "  \"success\": true\n",
       "}"
      ]
     },
     "execution_count": 28,
     "metadata": {},
     "output_type": "execute_result"
    },
    {
     "data": {
      "text/plain": [
       "{\n",
       "  \"exception_info\": {\n",
       "    \"raised_exception\": false,\n",
       "    \"exception_traceback\": null,\n",
       "    \"exception_message\": null\n",
       "  },\n",
       "  \"meta\": {},\n",
       "  \"result\": {\n",
       "    \"element_count\": 4672,\n",
       "    \"unexpected_count\": 0,\n",
       "    \"unexpected_percent\": 0.0,\n",
       "    \"unexpected_percent_total\": 0.0,\n",
       "    \"partial_unexpected_list\": []\n",
       "  },\n",
       "  \"success\": true\n",
       "}"
      ]
     },
     "execution_count": 28,
     "metadata": {},
     "output_type": "execute_result"
    }
   ],
   "source": [
    "dx_df.expect_column_values_to_not_be_null('dx_code', mostly=1)\n",
    "dx_df.expect_column_values_to_not_be_null('pt_id', mostly=1)\n",
    "dx_df.expect_column_values_to_not_be_null('dos', mostly=1)"
   ]
  },
  {
   "cell_type": "code",
   "execution_count": 12,
   "id": "613547cf",
   "metadata": {},
   "outputs": [
    {
     "data": {
      "text/plain": [
       "{\n",
       "  \"exception_info\": {\n",
       "    \"raised_exception\": false,\n",
       "    \"exception_traceback\": null,\n",
       "    \"exception_message\": null\n",
       "  },\n",
       "  \"meta\": {},\n",
       "  \"result\": {\n",
       "    \"element_count\": 945,\n",
       "    \"unexpected_count\": 0,\n",
       "    \"unexpected_percent\": 0.0,\n",
       "    \"unexpected_percent_total\": 0.0,\n",
       "    \"partial_unexpected_list\": []\n",
       "  },\n",
       "  \"success\": true\n",
       "}"
      ]
     },
     "execution_count": 12,
     "metadata": {},
     "output_type": "execute_result"
    },
    {
     "data": {
      "text/plain": [
       "{\n",
       "  \"exception_info\": {\n",
       "    \"raised_exception\": false,\n",
       "    \"exception_traceback\": null,\n",
       "    \"exception_message\": null\n",
       "  },\n",
       "  \"meta\": {},\n",
       "  \"result\": {\n",
       "    \"element_count\": 945,\n",
       "    \"unexpected_count\": 0,\n",
       "    \"unexpected_percent\": 0.0,\n",
       "    \"unexpected_percent_total\": 0.0,\n",
       "    \"partial_unexpected_list\": []\n",
       "  },\n",
       "  \"success\": true\n",
       "}"
      ]
     },
     "execution_count": 12,
     "metadata": {},
     "output_type": "execute_result"
    }
   ],
   "source": [
    "pt_df.expect_column_values_to_not_be_null('patientid', mostly=1)\n",
    "pt_df.expect_column_values_to_not_be_null('sex', mostly=1)"
   ]
  },
  {
   "cell_type": "code",
   "execution_count": 13,
   "id": "592711d3",
   "metadata": {},
   "outputs": [
    {
     "data": {
      "text/plain": [
       "{\n",
       "  \"exception_info\": {\n",
       "    \"raised_exception\": false,\n",
       "    \"exception_traceback\": null,\n",
       "    \"exception_message\": null\n",
       "  },\n",
       "  \"meta\": {},\n",
       "  \"result\": {\n",
       "    \"element_count\": 5222,\n",
       "    \"unexpected_count\": 3760,\n",
       "    \"unexpected_percent\": 72.00306396016852,\n",
       "    \"unexpected_percent_total\": 72.00306396016852,\n",
       "    \"partial_unexpected_list\": []\n",
       "  },\n",
       "  \"success\": false\n",
       "}"
      ]
     },
     "execution_count": 13,
     "metadata": {},
     "output_type": "execute_result"
    },
    {
     "data": {
      "text/plain": [
       "{\n",
       "  \"exception_info\": {\n",
       "    \"raised_exception\": false,\n",
       "    \"exception_traceback\": null,\n",
       "    \"exception_message\": null\n",
       "  },\n",
       "  \"meta\": {},\n",
       "  \"result\": {\n",
       "    \"element_count\": 5222,\n",
       "    \"unexpected_count\": 0,\n",
       "    \"unexpected_percent\": 0.0,\n",
       "    \"unexpected_percent_total\": 0.0,\n",
       "    \"partial_unexpected_list\": []\n",
       "  },\n",
       "  \"success\": true\n",
       "}"
      ]
     },
     "execution_count": 13,
     "metadata": {},
     "output_type": "execute_result"
    },
    {
     "data": {
      "text/plain": [
       "{\n",
       "  \"exception_info\": {\n",
       "    \"raised_exception\": false,\n",
       "    \"exception_traceback\": null,\n",
       "    \"exception_message\": null\n",
       "  },\n",
       "  \"meta\": {},\n",
       "  \"result\": {\n",
       "    \"element_count\": 5222,\n",
       "    \"unexpected_count\": 0,\n",
       "    \"unexpected_percent\": 0.0,\n",
       "    \"unexpected_percent_total\": 0.0,\n",
       "    \"partial_unexpected_list\": []\n",
       "  },\n",
       "  \"success\": true\n",
       "}"
      ]
     },
     "execution_count": 13,
     "metadata": {},
     "output_type": "execute_result"
    },
    {
     "data": {
      "text/plain": [
       "{\n",
       "  \"exception_info\": {\n",
       "    \"raised_exception\": false,\n",
       "    \"exception_traceback\": null,\n",
       "    \"exception_message\": null\n",
       "  },\n",
       "  \"meta\": {},\n",
       "  \"result\": {\n",
       "    \"element_count\": 5222,\n",
       "    \"unexpected_count\": 0,\n",
       "    \"unexpected_percent\": 0.0,\n",
       "    \"unexpected_percent_total\": 0.0,\n",
       "    \"partial_unexpected_list\": []\n",
       "  },\n",
       "  \"success\": true\n",
       "}"
      ]
     },
     "execution_count": 13,
     "metadata": {},
     "output_type": "execute_result"
    }
   ],
   "source": [
    "pc_df.expect_column_values_to_not_be_null('mod', mostly=1)\n",
    "pc_df.expect_column_values_to_not_be_null('patient_id', mostly=1)\n",
    "pc_df.expect_column_values_to_not_be_null('dos', mostly=1)\n",
    "pc_df.expect_column_values_to_not_be_null('procedure_code', mostly=1)"
   ]
  },
  {
   "cell_type": "markdown",
   "id": "22ad1153",
   "metadata": {},
   "source": [
    "### 2.3. Values in a given set"
   ]
  },
  {
   "cell_type": "code",
   "execution_count": 14,
   "id": "363d2d08",
   "metadata": {},
   "outputs": [
    {
     "data": {
      "text/plain": [
       "{\n",
       "  \"exception_info\": {\n",
       "    \"raised_exception\": false,\n",
       "    \"exception_traceback\": null,\n",
       "    \"exception_message\": null\n",
       "  },\n",
       "  \"meta\": {},\n",
       "  \"result\": {\n",
       "    \"element_count\": 5222,\n",
       "    \"missing_count\": 0,\n",
       "    \"missing_percent\": 0.0,\n",
       "    \"unexpected_count\": 4716,\n",
       "    \"unexpected_percent\": 90.31022596706244,\n",
       "    \"unexpected_percent_total\": 90.31022596706244,\n",
       "    \"unexpected_percent_nonmissing\": 90.31022596706244,\n",
       "    \"partial_unexpected_list\": [\n",
       "      \"2027F\",\n",
       "      \"92014\",\n",
       "      \"G8427\",\n",
       "      \"92134\",\n",
       "      \"92014\",\n",
       "      \"92134\",\n",
       "      \"2026F\",\n",
       "      \"1036F\",\n",
       "      \"92012\",\n",
       "      \"92014\",\n",
       "      \"92012\",\n",
       "      \"92134\",\n",
       "      \"92014\",\n",
       "      \"92226\",\n",
       "      \"92014\",\n",
       "      \"92014\",\n",
       "      \"EYLEAX1\",\n",
       "      \"99213\",\n",
       "      \"92015\",\n",
       "      \"92012\"\n",
       "    ]\n",
       "  },\n",
       "  \"success\": false\n",
       "}"
      ]
     },
     "execution_count": 14,
     "metadata": {},
     "output_type": "execute_result"
    }
   ],
   "source": [
    "pc_df.expect_column_values_to_be_in_set('procedure_code', ['67028'], mostly=1)"
   ]
  },
  {
   "cell_type": "code",
   "execution_count": 15,
   "id": "2592b4a9",
   "metadata": {},
   "outputs": [
    {
     "data": {
      "text/plain": [
       "{\n",
       "  \"exception_info\": {\n",
       "    \"raised_exception\": false,\n",
       "    \"exception_traceback\": null,\n",
       "    \"exception_message\": null\n",
       "  },\n",
       "  \"meta\": {},\n",
       "  \"result\": {\n",
       "    \"element_count\": 945,\n",
       "    \"missing_count\": 0,\n",
       "    \"missing_percent\": 0.0,\n",
       "    \"unexpected_count\": 24,\n",
       "    \"unexpected_percent\": 2.5396825396825395,\n",
       "    \"unexpected_percent_total\": 2.5396825396825395,\n",
       "    \"unexpected_percent_nonmissing\": 2.5396825396825395,\n",
       "    \"partial_unexpected_list\": [\n",
       "      \"female\",\n",
       "      \"f\",\n",
       "      \"male\",\n",
       "      \"female\",\n",
       "      \"female\",\n",
       "      \"f\",\n",
       "      \"female\",\n",
       "      \"female\",\n",
       "      \"male\",\n",
       "      \"male\",\n",
       "      \"male\",\n",
       "      \"female\",\n",
       "      \"male\",\n",
       "      \"male\",\n",
       "      \"male\",\n",
       "      \"male\",\n",
       "      \"male\",\n",
       "      \"f\",\n",
       "      \"M\",\n",
       "      \"female\"\n",
       "    ]\n",
       "  },\n",
       "  \"success\": false\n",
       "}"
      ]
     },
     "execution_count": 15,
     "metadata": {},
     "output_type": "execute_result"
    }
   ],
   "source": [
    "pt_df.expect_column_values_to_be_in_set('sex', ['Male', \"Female\", 'Not Reported'], mostly=1)"
   ]
  },
  {
   "cell_type": "markdown",
   "id": "9aea5073",
   "metadata": {},
   "source": [
    "### 2.4. Values representing a datetime with a given format."
   ]
  },
  {
   "cell_type": "code",
   "execution_count": 16,
   "id": "aacb6ddb",
   "metadata": {},
   "outputs": [
    {
     "data": {
      "text/plain": [
       "{\n",
       "  \"exception_info\": {\n",
       "    \"raised_exception\": false,\n",
       "    \"exception_traceback\": null,\n",
       "    \"exception_message\": null\n",
       "  },\n",
       "  \"meta\": {},\n",
       "  \"result\": {\n",
       "    \"element_count\": 4672,\n",
       "    \"missing_count\": 0,\n",
       "    \"missing_percent\": 0.0,\n",
       "    \"unexpected_count\": 0,\n",
       "    \"unexpected_percent\": 0.0,\n",
       "    \"unexpected_percent_total\": 0.0,\n",
       "    \"unexpected_percent_nonmissing\": 0.0,\n",
       "    \"partial_unexpected_list\": []\n",
       "  },\n",
       "  \"success\": true\n",
       "}"
      ]
     },
     "execution_count": 16,
     "metadata": {},
     "output_type": "execute_result"
    },
    {
     "data": {
      "text/plain": [
       "{\n",
       "  \"exception_info\": {\n",
       "    \"raised_exception\": false,\n",
       "    \"exception_traceback\": null,\n",
       "    \"exception_message\": null\n",
       "  },\n",
       "  \"meta\": {},\n",
       "  \"result\": {\n",
       "    \"element_count\": 5222,\n",
       "    \"missing_count\": 0,\n",
       "    \"missing_percent\": 0.0,\n",
       "    \"unexpected_count\": 5222,\n",
       "    \"unexpected_percent\": 100.0,\n",
       "    \"unexpected_percent_total\": 100.0,\n",
       "    \"unexpected_percent_nonmissing\": 100.0,\n",
       "    \"partial_unexpected_list\": [\n",
       "      \"12/14/19\",\n",
       "      \"11/13/19\",\n",
       "      \"11/6/19\",\n",
       "      \"10/2/19\",\n",
       "      \"9/23/19\",\n",
       "      \"2/7/19\",\n",
       "      \"1/8/19\",\n",
       "      \"1/4/19\",\n",
       "      \"11/21/18\",\n",
       "      \"7/18/18\",\n",
       "      \"6/19/18\",\n",
       "      \"6/15/18\",\n",
       "      \"12/6/17\",\n",
       "      \"10/27/17\",\n",
       "      \"8/1/17\",\n",
       "      \"7/31/17\",\n",
       "      \"5/25/17\",\n",
       "      \"4/24/17\",\n",
       "      \"1/24/17\",\n",
       "      \"1/16/17\"\n",
       "    ]\n",
       "  },\n",
       "  \"success\": false\n",
       "}"
      ]
     },
     "execution_count": 16,
     "metadata": {},
     "output_type": "execute_result"
    },
    {
     "data": {
      "text/plain": [
       "{\n",
       "  \"exception_info\": {\n",
       "    \"raised_exception\": false,\n",
       "    \"exception_traceback\": null,\n",
       "    \"exception_message\": null\n",
       "  },\n",
       "  \"meta\": {},\n",
       "  \"result\": {\n",
       "    \"element_count\": 5222,\n",
       "    \"missing_count\": 0,\n",
       "    \"missing_percent\": 0.0,\n",
       "    \"unexpected_count\": 0,\n",
       "    \"unexpected_percent\": 0.0,\n",
       "    \"unexpected_percent_total\": 0.0,\n",
       "    \"unexpected_percent_nonmissing\": 0.0,\n",
       "    \"partial_unexpected_list\": []\n",
       "  },\n",
       "  \"success\": true\n",
       "}"
      ]
     },
     "execution_count": 16,
     "metadata": {},
     "output_type": "execute_result"
    }
   ],
   "source": [
    "dx_df.expect_column_values_to_match_strftime_format('dos', '%Y-%m-%d')\n",
    "pc_df.expect_column_values_to_match_strftime_format('dos', '%Y-%m-%d')\n",
    "pc_df.expect_column_values_to_match_strftime_format('dos', '%x')"
   ]
  },
  {
   "cell_type": "code",
   "execution_count": 17,
   "id": "6b4de1fa",
   "metadata": {},
   "outputs": [
    {
     "data": {
      "text/html": [
       "<div>\n",
       "<style scoped>\n",
       "    .dataframe tbody tr th:only-of-type {\n",
       "        vertical-align: middle;\n",
       "    }\n",
       "\n",
       "    .dataframe tbody tr th {\n",
       "        vertical-align: top;\n",
       "    }\n",
       "\n",
       "    .dataframe thead th {\n",
       "        text-align: right;\n",
       "    }\n",
       "</style>\n",
       "<table border=\"1\" class=\"dataframe\">\n",
       "  <thead>\n",
       "    <tr style=\"text-align: right;\">\n",
       "      <th></th>\n",
       "      <th>patient_id</th>\n",
       "      <th>dos</th>\n",
       "      <th>procedure_code</th>\n",
       "      <th>mod</th>\n",
       "      <th>year</th>\n",
       "    </tr>\n",
       "  </thead>\n",
       "  <tbody>\n",
       "    <tr>\n",
       "      <th>0</th>\n",
       "      <td>10026</td>\n",
       "      <td>12/14/19</td>\n",
       "      <td>2027F</td>\n",
       "      <td>NaN</td>\n",
       "      <td>2019</td>\n",
       "    </tr>\n",
       "    <tr>\n",
       "      <th>1</th>\n",
       "      <td>10026</td>\n",
       "      <td>11/13/19</td>\n",
       "      <td>92014</td>\n",
       "      <td>25</td>\n",
       "      <td>2019</td>\n",
       "    </tr>\n",
       "    <tr>\n",
       "      <th>2</th>\n",
       "      <td>10026</td>\n",
       "      <td>11/6/19</td>\n",
       "      <td>G8427</td>\n",
       "      <td>NaN</td>\n",
       "      <td>2019</td>\n",
       "    </tr>\n",
       "    <tr>\n",
       "      <th>3</th>\n",
       "      <td>10026</td>\n",
       "      <td>10/2/19</td>\n",
       "      <td>92134</td>\n",
       "      <td>NaN</td>\n",
       "      <td>2019</td>\n",
       "    </tr>\n",
       "    <tr>\n",
       "      <th>4</th>\n",
       "      <td>10026</td>\n",
       "      <td>9/23/19</td>\n",
       "      <td>92014</td>\n",
       "      <td>25</td>\n",
       "      <td>2019</td>\n",
       "    </tr>\n",
       "  </tbody>\n",
       "</table>\n",
       "</div>"
      ],
      "text/plain": [
       "   patient_id       dos procedure_code  mod  year\n",
       "0       10026  12/14/19          2027F  NaN  2019\n",
       "1       10026  11/13/19          92014   25  2019\n",
       "2       10026   11/6/19          G8427  NaN  2019\n",
       "3       10026   10/2/19          92134  NaN  2019\n",
       "4       10026   9/23/19          92014   25  2019"
      ]
     },
     "execution_count": 17,
     "metadata": {},
     "output_type": "execute_result"
    }
   ],
   "source": [
    "from datetime import datetime as dt\n",
    "pc_df['year']=pc_df['dos'].apply(lambda x: dt.strptime(x, '%x').year)\n",
    "pc_df.head()"
   ]
  },
  {
   "cell_type": "markdown",
   "id": "4558b4bf",
   "metadata": {},
   "source": [
    "### 2.5. Duplicate Values\n",
    "\n",
    "#### 2.5.1. No duplicated column value"
   ]
  },
  {
   "cell_type": "code",
   "execution_count": 18,
   "id": "a70fd340",
   "metadata": {},
   "outputs": [
    {
     "data": {
      "text/plain": [
       "{\n",
       "  \"exception_info\": {\n",
       "    \"raised_exception\": false,\n",
       "    \"exception_traceback\": null,\n",
       "    \"exception_message\": null\n",
       "  },\n",
       "  \"meta\": {},\n",
       "  \"result\": {\n",
       "    \"element_count\": 945,\n",
       "    \"missing_count\": 0,\n",
       "    \"missing_percent\": 0.0,\n",
       "    \"unexpected_count\": 26,\n",
       "    \"unexpected_percent\": 2.751322751322751,\n",
       "    \"unexpected_percent_total\": 2.751322751322751,\n",
       "    \"unexpected_percent_nonmissing\": 2.751322751322751,\n",
       "    \"partial_unexpected_list\": [\n",
       "      10026,\n",
       "      25601,\n",
       "      33971,\n",
       "      42472,\n",
       "      16661,\n",
       "      44456,\n",
       "      33971,\n",
       "      34041,\n",
       "      41540,\n",
       "      10026,\n",
       "      39510,\n",
       "      16661,\n",
       "      21629,\n",
       "      44456,\n",
       "      37952,\n",
       "      42472,\n",
       "      24434,\n",
       "      25601,\n",
       "      21629,\n",
       "      34041\n",
       "    ]\n",
       "  },\n",
       "  \"success\": false\n",
       "}"
      ]
     },
     "execution_count": 18,
     "metadata": {},
     "output_type": "execute_result"
    }
   ],
   "source": [
    "pt_df.expect_column_values_to_be_unique(\n",
    "    'patientid', \n",
    "    result_format={'result_format': 'BASIC'}, \n",
    ")"
   ]
  },
  {
   "cell_type": "markdown",
   "id": "22a09b65",
   "metadata": {},
   "source": [
    "#### 2.5.2. No duplicate records, ie compound column values"
   ]
  },
  {
   "cell_type": "code",
   "execution_count": 19,
   "id": "33e9c7b8",
   "metadata": {},
   "outputs": [
    {
     "data": {
      "text/plain": [
       "{\n",
       "  \"exception_info\": {\n",
       "    \"raised_exception\": false,\n",
       "    \"exception_traceback\": null,\n",
       "    \"exception_message\": null\n",
       "  },\n",
       "  \"meta\": {},\n",
       "  \"result\": {\n",
       "    \"element_count\": 5222,\n",
       "    \"missing_count\": 0,\n",
       "    \"missing_percent\": 0.0,\n",
       "    \"unexpected_count\": 135,\n",
       "    \"unexpected_percent\": 2.5852163921869016,\n",
       "    \"unexpected_percent_total\": 2.5852163921869016,\n",
       "    \"unexpected_percent_nonmissing\": 2.5852163921869016,\n",
       "    \"partial_unexpected_list\": [\n",
       "      {\n",
       "        \"patient_id\": 10026,\n",
       "        \"dos\": \"12/20/16\",\n",
       "        \"procedure_code\": \"67210\",\n",
       "        \"mod\": \"79\",\n",
       "        \"year\": 2016\n",
       "      },\n",
       "      {\n",
       "        \"patient_id\": 10026,\n",
       "        \"dos\": \"12/20/16\",\n",
       "        \"procedure_code\": \"67210\",\n",
       "        \"mod\": \"79\",\n",
       "        \"year\": 2016\n",
       "      },\n",
       "      {\n",
       "        \"patient_id\": 10098,\n",
       "        \"dos\": \"2/27/17\",\n",
       "        \"procedure_code\": \"92134\",\n",
       "        \"mod\": null,\n",
       "        \"year\": 2017\n",
       "      },\n",
       "      {\n",
       "        \"patient_id\": 10098,\n",
       "        \"dos\": \"9/27/18\",\n",
       "        \"procedure_code\": \"92226\",\n",
       "        \"mod\": \"RT\",\n",
       "        \"year\": 2018\n",
       "      },\n",
       "      {\n",
       "        \"patient_id\": 10098,\n",
       "        \"dos\": \"2/27/17\",\n",
       "        \"procedure_code\": \"92134\",\n",
       "        \"mod\": null,\n",
       "        \"year\": 2017\n",
       "      },\n",
       "      {\n",
       "        \"patient_id\": 10098,\n",
       "        \"dos\": \"9/27/18\",\n",
       "        \"procedure_code\": \"92226\",\n",
       "        \"mod\": \"RT\",\n",
       "        \"year\": 2018\n",
       "      },\n",
       "      {\n",
       "        \"patient_id\": 11945,\n",
       "        \"dos\": \"11/23/15\",\n",
       "        \"procedure_code\": \"92014\",\n",
       "        \"mod\": null,\n",
       "        \"year\": 2015\n",
       "      },\n",
       "      {\n",
       "        \"patient_id\": 11945,\n",
       "        \"dos\": \"11/23/15\",\n",
       "        \"procedure_code\": \"92014\",\n",
       "        \"mod\": null,\n",
       "        \"year\": 2015\n",
       "      },\n",
       "      {\n",
       "        \"patient_id\": 12332,\n",
       "        \"dos\": \"5/24/16\",\n",
       "        \"procedure_code\": \"92002\",\n",
       "        \"mod\": null,\n",
       "        \"year\": 2016\n",
       "      },\n",
       "      {\n",
       "        \"patient_id\": 12332,\n",
       "        \"dos\": \"5/24/16\",\n",
       "        \"procedure_code\": \"92002\",\n",
       "        \"mod\": null,\n",
       "        \"year\": 2016\n",
       "      },\n",
       "      {\n",
       "        \"patient_id\": 12604,\n",
       "        \"dos\": \"7/6/17\",\n",
       "        \"procedure_code\": \"92134\",\n",
       "        \"mod\": null,\n",
       "        \"year\": 2017\n",
       "      },\n",
       "      {\n",
       "        \"patient_id\": 12604,\n",
       "        \"dos\": \"8/24/16\",\n",
       "        \"procedure_code\": \"92226\",\n",
       "        \"mod\": \"RT\",\n",
       "        \"year\": 2016\n",
       "      },\n",
       "      {\n",
       "        \"patient_id\": 12604,\n",
       "        \"dos\": \"7/6/17\",\n",
       "        \"procedure_code\": \"92134\",\n",
       "        \"mod\": null,\n",
       "        \"year\": 2017\n",
       "      },\n",
       "      {\n",
       "        \"patient_id\": 12604,\n",
       "        \"dos\": \"8/24/16\",\n",
       "        \"procedure_code\": \"92226\",\n",
       "        \"mod\": \"RT\",\n",
       "        \"year\": 2016\n",
       "      },\n",
       "      {\n",
       "        \"patient_id\": 13516,\n",
       "        \"dos\": \"9/30/19\",\n",
       "        \"procedure_code\": \"67028\",\n",
       "        \"mod\": null,\n",
       "        \"year\": 2019\n",
       "      },\n",
       "      {\n",
       "        \"patient_id\": 13516,\n",
       "        \"dos\": \"9/30/19\",\n",
       "        \"procedure_code\": \"J0178\",\n",
       "        \"mod\": null,\n",
       "        \"year\": 2019\n",
       "      },\n",
       "      {\n",
       "        \"patient_id\": 13516,\n",
       "        \"dos\": \"9/30/19\",\n",
       "        \"procedure_code\": \"67028\",\n",
       "        \"mod\": null,\n",
       "        \"year\": 2019\n",
       "      },\n",
       "      {\n",
       "        \"patient_id\": 13516,\n",
       "        \"dos\": \"9/30/19\",\n",
       "        \"procedure_code\": \"J0178\",\n",
       "        \"mod\": null,\n",
       "        \"year\": 2019\n",
       "      },\n",
       "      {\n",
       "        \"patient_id\": 13516,\n",
       "        \"dos\": \"9/30/19\",\n",
       "        \"procedure_code\": \"67028\",\n",
       "        \"mod\": null,\n",
       "        \"year\": 2019\n",
       "      },\n",
       "      {\n",
       "        \"patient_id\": 13516,\n",
       "        \"dos\": \"10/3/19\",\n",
       "        \"procedure_code\": \"J2778\",\n",
       "        \"mod\": null,\n",
       "        \"year\": 2019\n",
       "      }\n",
       "    ]\n",
       "  },\n",
       "  \"success\": false\n",
       "}"
      ]
     },
     "execution_count": 19,
     "metadata": {},
     "output_type": "execute_result"
    },
    {
     "data": {
      "text/plain": [
       "{\n",
       "  \"exception_info\": {\n",
       "    \"raised_exception\": false,\n",
       "    \"exception_traceback\": null,\n",
       "    \"exception_message\": null\n",
       "  },\n",
       "  \"meta\": {},\n",
       "  \"result\": {},\n",
       "  \"success\": false\n",
       "}"
      ]
     },
     "execution_count": 19,
     "metadata": {},
     "output_type": "execute_result"
    },
    {
     "data": {
      "text/plain": [
       "{\n",
       "  \"exception_info\": {\n",
       "    \"raised_exception\": false,\n",
       "    \"exception_traceback\": null,\n",
       "    \"exception_message\": null\n",
       "  },\n",
       "  \"meta\": {},\n",
       "  \"result\": {},\n",
       "  \"success\": false\n",
       "}"
      ]
     },
     "execution_count": 19,
     "metadata": {},
     "output_type": "execute_result"
    }
   ],
   "source": [
    "pc_df.expect_compound_columns_to_be_unique(\n",
    "    pc_df.columns, \n",
    "    result_format={'result_format': 'BASIC'}, \n",
    ")\n",
    "pt_df.expect_compound_columns_to_be_unique(\n",
    "    pt_df.columns, \n",
    "    result_format={'result_format': 'BOOLEAN_ONLY'}, \n",
    ")\n",
    "dx_df.expect_compound_columns_to_be_unique(\n",
    "    dx_df.columns, \n",
    "    result_format={'result_format': 'BOOLEAN_ONLY'}, \n",
    ")"
   ]
  },
  {
   "cell_type": "markdown",
   "id": "39681901",
   "metadata": {},
   "source": [
    "### 2.6. Multiple entries in a single cell"
   ]
  },
  {
   "cell_type": "code",
   "execution_count": 20,
   "id": "03fda036",
   "metadata": {},
   "outputs": [
    {
     "data": {
      "text/plain": [
       "{\n",
       "  \"exception_info\": {\n",
       "    \"raised_exception\": false,\n",
       "    \"exception_traceback\": null,\n",
       "    \"exception_message\": null\n",
       "  },\n",
       "  \"meta\": {},\n",
       "  \"result\": {\n",
       "    \"element_count\": 5222,\n",
       "    \"missing_count\": 0,\n",
       "    \"missing_percent\": 0.0,\n",
       "    \"unexpected_count\": 8,\n",
       "    \"unexpected_percent\": 0.15319800842589046,\n",
       "    \"unexpected_percent_total\": 0.15319800842589046,\n",
       "    \"unexpected_percent_nonmissing\": 0.15319800842589046,\n",
       "    \"partial_unexpected_list\": [\n",
       "      \"J2778,05MG\",\n",
       "      \"J9035,J3490,Q9977\",\n",
       "      \"J9035,J3490,Q9977\",\n",
       "      \"J9035,J3490,Q9977\",\n",
       "      \"J9035,J3490,Q9977\",\n",
       "      \"J9035,J3490,Q9977\",\n",
       "      \"J9035,J3490,Q9977\",\n",
       "      \"J9035,J3490,Q9977\"\n",
       "    ]\n",
       "  },\n",
       "  \"success\": false\n",
       "}"
      ]
     },
     "execution_count": 20,
     "metadata": {},
     "output_type": "execute_result"
    }
   ],
   "source": [
    "sep = r\"[,\\s;]+\"\n",
    "pc_df.expect_column_values_to_not_match_regex('procedure_code', sep, mostly=1)"
   ]
  },
  {
   "cell_type": "code",
   "execution_count": 21,
   "id": "464f5cb0",
   "metadata": {},
   "outputs": [
    {
     "data": {
      "text/plain": [
       "{\n",
       "  \"exception_info\": {\n",
       "    \"raised_exception\": false,\n",
       "    \"exception_traceback\": null,\n",
       "    \"exception_message\": null\n",
       "  },\n",
       "  \"meta\": {},\n",
       "  \"result\": {\n",
       "    \"element_count\": 5222,\n",
       "    \"missing_count\": 0,\n",
       "    \"missing_percent\": 0.0,\n",
       "    \"unexpected_count\": 124,\n",
       "    \"unexpected_percent\": 2.3745691306013024,\n",
       "    \"unexpected_percent_total\": 2.3745691306013024,\n",
       "    \"unexpected_percent_nonmissing\": 2.3745691306013024,\n",
       "    \"partial_unexpected_list\": [\n",
       "      \"EYLEAX1\",\n",
       "      \"EYLEAX1\",\n",
       "      \"EYLEAX1\",\n",
       "      \"EYLEAX1\",\n",
       "      \"J2778PF\",\n",
       "      \"J2778PF\",\n",
       "      \"J2778PF\",\n",
       "      \"J2778PF\",\n",
       "      \"J2778PF\",\n",
       "      \"J2778PF\",\n",
       "      \"J2778PF\",\n",
       "      \"J2778PF\",\n",
       "      \"J2778PF\",\n",
       "      \"67028MCR\",\n",
       "      \"J0178OU\",\n",
       "      \"EYLEAX1\",\n",
       "      \"LUC5SYRX1\",\n",
       "      \"EYLEAX1\",\n",
       "      \"LUC5SYRX1\",\n",
       "      \"LUC5SYRX1\"\n",
       "    ]\n",
       "  },\n",
       "  \"success\": false\n",
       "}"
      ]
     },
     "execution_count": 21,
     "metadata": {},
     "output_type": "execute_result"
    }
   ],
   "source": [
    "pc_df.expect_column_value_lengths_to_be_between('procedure_code', min_value=4, max_value=5)"
   ]
  },
  {
   "cell_type": "markdown",
   "id": "e247ecfe",
   "metadata": {},
   "source": [
    "## 3. Creating suite for the automation of data validation"
   ]
  },
  {
   "cell_type": "code",
   "execution_count": 22,
   "id": "aa6377c3",
   "metadata": {},
   "outputs": [
    {
     "data": {
      "text/plain": [
       "{\n",
       "  \"expectations\": [\n",
       "    {\n",
       "      \"meta\": {},\n",
       "      \"kwargs\": {\n",
       "        \"column\": \"patientid\",\n",
       "        \"mostly\": 1\n",
       "      },\n",
       "      \"expectation_type\": \"expect_column_values_to_not_be_null\"\n",
       "    },\n",
       "    {\n",
       "      \"meta\": {},\n",
       "      \"kwargs\": {\n",
       "        \"column\": \"sex\",\n",
       "        \"mostly\": 1\n",
       "      },\n",
       "      \"expectation_type\": \"expect_column_values_to_not_be_null\"\n",
       "    },\n",
       "    {\n",
       "      \"meta\": {},\n",
       "      \"kwargs\": {\n",
       "        \"column\": \"sex\",\n",
       "        \"value_set\": [\n",
       "          \"Male\",\n",
       "          \"Female\",\n",
       "          \"Not Reported\"\n",
       "        ],\n",
       "        \"mostly\": 1\n",
       "      },\n",
       "      \"expectation_type\": \"expect_column_values_to_be_in_set\"\n",
       "    },\n",
       "    {\n",
       "      \"meta\": {},\n",
       "      \"kwargs\": {\n",
       "        \"column\": \"patientid\"\n",
       "      },\n",
       "      \"expectation_type\": \"expect_column_values_to_be_unique\"\n",
       "    },\n",
       "    {\n",
       "      \"meta\": {},\n",
       "      \"kwargs\": {\n",
       "        \"column_list\": [\n",
       "          \"patientid\",\n",
       "          \"sex\"\n",
       "        ]\n",
       "      },\n",
       "      \"expectation_type\": \"expect_compound_columns_to_be_unique\"\n",
       "    }\n",
       "  ],\n",
       "  \"meta\": {\n",
       "    \"great_expectations_version\": \"0.13.19\"\n",
       "  },\n",
       "  \"data_asset_type\": \"Dataset\",\n",
       "  \"expectation_suite_name\": \"default\"\n",
       "}"
      ]
     },
     "execution_count": 22,
     "metadata": {},
     "output_type": "execute_result"
    }
   ],
   "source": [
    "pt_df.get_expectation_suite(discard_failed_expectations=False)"
   ]
  },
  {
   "cell_type": "code",
   "execution_count": 23,
   "id": "02607fd1",
   "metadata": {},
   "outputs": [
    {
     "data": {
      "text/plain": [
       "372"
      ]
     },
     "execution_count": 23,
     "metadata": {},
     "output_type": "execute_result"
    }
   ],
   "source": [
    "with open( \"pt_expectation_file.json\", \"w\") as pt_file:\n",
    "    pt_file.write(\n",
    "        json.dumps(pt_df.get_expectation_suite().to_json_dict())\n",
    "    )"
   ]
  },
  {
   "cell_type": "code",
   "execution_count": 24,
   "id": "79f9af0a",
   "metadata": {},
   "outputs": [
    {
     "data": {
      "text/plain": [
       "{\n",
       "  \"expectations\": [\n",
       "    {\n",
       "      \"meta\": {},\n",
       "      \"kwargs\": {\n",
       "        \"column\": \"mod\",\n",
       "        \"mostly\": 1\n",
       "      },\n",
       "      \"expectation_type\": \"expect_column_values_to_not_be_null\"\n",
       "    },\n",
       "    {\n",
       "      \"meta\": {},\n",
       "      \"kwargs\": {\n",
       "        \"column\": \"patient_id\",\n",
       "        \"mostly\": 1\n",
       "      },\n",
       "      \"expectation_type\": \"expect_column_values_to_not_be_null\"\n",
       "    },\n",
       "    {\n",
       "      \"meta\": {},\n",
       "      \"kwargs\": {\n",
       "        \"column\": \"dos\",\n",
       "        \"mostly\": 1\n",
       "      },\n",
       "      \"expectation_type\": \"expect_column_values_to_not_be_null\"\n",
       "    },\n",
       "    {\n",
       "      \"meta\": {},\n",
       "      \"kwargs\": {\n",
       "        \"column\": \"procedure_code\",\n",
       "        \"mostly\": 1\n",
       "      },\n",
       "      \"expectation_type\": \"expect_column_values_to_not_be_null\"\n",
       "    },\n",
       "    {\n",
       "      \"meta\": {},\n",
       "      \"kwargs\": {\n",
       "        \"column\": \"procedure_code\",\n",
       "        \"value_set\": [\n",
       "          \"67028\"\n",
       "        ],\n",
       "        \"mostly\": 1\n",
       "      },\n",
       "      \"expectation_type\": \"expect_column_values_to_be_in_set\"\n",
       "    },\n",
       "    {\n",
       "      \"meta\": {},\n",
       "      \"kwargs\": {\n",
       "        \"column\": \"dos\",\n",
       "        \"strftime_format\": \"%x\"\n",
       "      },\n",
       "      \"expectation_type\": \"expect_column_values_to_match_strftime_format\"\n",
       "    },\n",
       "    {\n",
       "      \"meta\": {},\n",
       "      \"kwargs\": {\n",
       "        \"column_list\": [\n",
       "          \"patient_id\",\n",
       "          \"dos\",\n",
       "          \"procedure_code\",\n",
       "          \"mod\",\n",
       "          \"year\"\n",
       "        ]\n",
       "      },\n",
       "      \"expectation_type\": \"expect_compound_columns_to_be_unique\"\n",
       "    },\n",
       "    {\n",
       "      \"meta\": {},\n",
       "      \"kwargs\": {\n",
       "        \"column\": \"procedure_code\",\n",
       "        \"regex\": \"[,\\\\s;]+\",\n",
       "        \"mostly\": 1\n",
       "      },\n",
       "      \"expectation_type\": \"expect_column_values_to_not_match_regex\"\n",
       "    },\n",
       "    {\n",
       "      \"meta\": {},\n",
       "      \"kwargs\": {\n",
       "        \"column\": \"procedure_code\",\n",
       "        \"min_value\": 4,\n",
       "        \"max_value\": 5\n",
       "      },\n",
       "      \"expectation_type\": \"expect_column_value_lengths_to_be_between\"\n",
       "    }\n",
       "  ],\n",
       "  \"meta\": {\n",
       "    \"great_expectations_version\": \"0.13.19\"\n",
       "  },\n",
       "  \"data_asset_type\": \"Dataset\",\n",
       "  \"expectation_suite_name\": \"default\"\n",
       "}"
      ]
     },
     "execution_count": 24,
     "metadata": {},
     "output_type": "execute_result"
    }
   ],
   "source": [
    "pc_df.get_expectation_suite(discard_failed_expectations=False)"
   ]
  },
  {
   "cell_type": "code",
   "execution_count": 25,
   "id": "5e81acb4",
   "metadata": {},
   "outputs": [
    {
     "data": {
      "text/plain": [
       "636"
      ]
     },
     "execution_count": 25,
     "metadata": {},
     "output_type": "execute_result"
    }
   ],
   "source": [
    "with open( \"pc_expectation_file.json\", \"w\") as pc_file:\n",
    "    pc_file.write(\n",
    "        json.dumps(pc_df.get_expectation_suite().to_json_dict())\n",
    "    )"
   ]
  },
  {
   "cell_type": "code",
   "execution_count": 26,
   "id": "7ab046df",
   "metadata": {},
   "outputs": [
    {
     "data": {
      "text/plain": [
       "{\n",
       "  \"expectations\": [\n",
       "    {\n",
       "      \"meta\": {},\n",
       "      \"kwargs\": {\n",
       "        \"column\": \"dx_code\",\n",
       "        \"regex\": \"(?i)(H35.?32)|(362.?52)|(414173003)\",\n",
       "        \"mostly\": 1\n",
       "      },\n",
       "      \"expectation_type\": \"expect_column_values_to_match_regex\"\n",
       "    },\n",
       "    {\n",
       "      \"meta\": {},\n",
       "      \"kwargs\": {\n",
       "        \"column\": \"dx_code\",\n",
       "        \"mostly\": 1\n",
       "      },\n",
       "      \"expectation_type\": \"expect_column_values_to_not_be_null\"\n",
       "    },\n",
       "    {\n",
       "      \"meta\": {},\n",
       "      \"kwargs\": {\n",
       "        \"column\": \"pt_id\",\n",
       "        \"mostly\": 1\n",
       "      },\n",
       "      \"expectation_type\": \"expect_column_values_to_not_be_null\"\n",
       "    },\n",
       "    {\n",
       "      \"meta\": {},\n",
       "      \"kwargs\": {\n",
       "        \"column\": \"dos\",\n",
       "        \"mostly\": 1\n",
       "      },\n",
       "      \"expectation_type\": \"expect_column_values_to_not_be_null\"\n",
       "    },\n",
       "    {\n",
       "      \"meta\": {},\n",
       "      \"kwargs\": {\n",
       "        \"column\": \"dos\",\n",
       "        \"strftime_format\": \"%Y-%m-%d\"\n",
       "      },\n",
       "      \"expectation_type\": \"expect_column_values_to_match_strftime_format\"\n",
       "    },\n",
       "    {\n",
       "      \"meta\": {},\n",
       "      \"kwargs\": {\n",
       "        \"column_list\": [\n",
       "          \"pt_id\",\n",
       "          \"dos\",\n",
       "          \"dx_code\"\n",
       "        ]\n",
       "      },\n",
       "      \"expectation_type\": \"expect_compound_columns_to_be_unique\"\n",
       "    }\n",
       "  ],\n",
       "  \"meta\": {\n",
       "    \"great_expectations_version\": \"0.13.19\"\n",
       "  },\n",
       "  \"data_asset_type\": \"Dataset\",\n",
       "  \"expectation_suite_name\": \"default\"\n",
       "}"
      ]
     },
     "execution_count": 26,
     "metadata": {},
     "output_type": "execute_result"
    }
   ],
   "source": [
    "dx_df.get_expectation_suite(discard_failed_expectations=False)"
   ]
  },
  {
   "cell_type": "code",
   "execution_count": 27,
   "id": "4494631f",
   "metadata": {},
   "outputs": [
    {
     "data": {
      "text/plain": [
       "630"
      ]
     },
     "execution_count": 27,
     "metadata": {},
     "output_type": "execute_result"
    }
   ],
   "source": [
    "with open( \"dx_expectation_file.json\", \"w\") as dx_file:\n",
    "    dx_file.write(\n",
    "        json.dumps(dx_df.get_expectation_suite().to_json_dict())\n",
    "    )"
   ]
  },
  {
   "cell_type": "code",
   "execution_count": null,
   "id": "6ab23e59",
   "metadata": {},
   "outputs": [],
   "source": []
  },
  {
   "cell_type": "code",
   "execution_count": null,
   "id": "7c363384",
   "metadata": {},
   "outputs": [],
   "source": []
  }
 ],
 "metadata": {
  "kernelspec": {
   "display_name": "Python 3",
   "language": "python",
   "name": "python3"
  },
  "language_info": {
   "codemirror_mode": {
    "name": "ipython",
    "version": 3
   },
   "file_extension": ".py",
   "mimetype": "text/x-python",
   "name": "python",
   "nbconvert_exporter": "python",
   "pygments_lexer": "ipython3",
   "version": "3.8.5"
  }
 },
 "nbformat": 4,
 "nbformat_minor": 5
}
