{
 "cells": [
  {
   "cell_type": "markdown",
   "id": "99670531",
   "metadata": {},
   "source": [
    "# Building a Data Validation Workflow for Great_Expecations\n",
    "\n",
    "Prerequisites:\n",
    "* Installed great_expectations (>=0.13.12)\n",
    "* Set up the working depolyment of great_expectations by running the CLI command \"great_expetations -v3-api init\" \n",
    "* Set up the datasource by running the CLI command \"great_expetations -v3-api datasource new\""
   ]
  },
  {
   "cell_type": "code",
   "execution_count": 1,
   "id": "d952aa17",
   "metadata": {},
   "outputs": [],
   "source": [
    "import great_expectations as ge\n",
    "import pandas as pd\n",
    "from pandas_profiling import ProfileReport\n",
    "from pandas_profiling.utils.cache import cache_file"
   ]
  },
  {
   "cell_type": "raw",
   "id": "016c7bdd",
   "metadata": {},
   "source": [
    "import os\n",
    "os.getcwd()"
   ]
  },
  {
   "cell_type": "markdown",
   "id": "a6dc1fec",
   "metadata": {},
   "source": [
    "## 1. Loading data"
   ]
  },
  {
   "cell_type": "code",
   "execution_count": 2,
   "id": "7a4c5446",
   "metadata": {},
   "outputs": [],
   "source": [
    "file_name = cache_file(\n",
    "    \"titanic.csv\",\n",
    "    \"https://raw.githubusercontent.com/datasciencedojo/datasets/master/titanic.csv\"\n",
    "df = pd.read_csv(file_name)"
   ]
  },
  {
   "cell_type": "markdown",
   "id": "9ddb80ea",
   "metadata": {},
   "source": [
    "## 2. Profiling data with pandas-profiler"
   ]
  },
  {
   "cell_type": "code",
   "execution_count": 4,
   "id": "55e5d325",
   "metadata": {},
   "outputs": [],
   "source": [
    "profile = ProfileReport(df, title=\"Pandas Profiling Report\", explorative=True)"
   ]
  },
  {
   "cell_type": "raw",
   "id": "985b9486",
   "metadata": {},
   "source": [
    "df.to_csv('titanic.csv')"
   ]
  },
  {
   "cell_type": "markdown",
   "id": "82793c15",
   "metadata": {},
   "source": [
    "## 3. Data Validation"
   ]
  },
  {
   "cell_type": "markdown",
   "id": "1032d7f1",
   "metadata": {},
   "source": [
    "### 3.1 Building the data_context"
   ]
  },
  {
   "cell_type": "code",
   "execution_count": 5,
   "id": "918fe07a",
   "metadata": {},
   "outputs": [
    {
     "data": {
      "application/vnd.jupyter.widget-view+json": {
       "model_id": "5e98d7cb8dc447f4a51380366f46d13f",
       "version_major": 2,
       "version_minor": 0
      },
      "text/plain": [
       "Summarize dataset:   0%|          | 0/25 [00:00<?, ?it/s]"
      ]
     },
     "metadata": {},
     "output_type": "display_data"
    }
   ],
   "source": [
    "data_context = ge.data_context.DataContext() #ge.data_context.DataContext(context_root_dir=\"my_ge_root_directory/\")"
   ]
  },
  {
   "cell_type": "markdown",
   "id": "930cdf1f",
   "metadata": {},
   "source": [
    "### 3.2. Generating the suite for validation from profiler report"
   ]
  },
  {
   "cell_type": "code",
   "execution_count": null,
   "id": "5759be74",
   "metadata": {},
   "outputs": [],
   "source": [
    "suite = profile.to_expectation_suite(\n",
    "    suite_name=\"titanic_expectations\",\n",
    "    data_context=data_context,\n",
    "    save_suite=False,\n",
    "    run_validation=False,\n",
    "    build_data_docs=False,\n",
    ")"
   ]
  },
  {
   "cell_type": "code",
   "execution_count": 6,
   "id": "a905a14b",
   "metadata": {},
   "outputs": [],
   "source": [
    "data_context.save_expectation_suite(suite)"
   ]
  },
  {
   "cell_type": "markdown",
   "id": "bf892bc4",
   "metadata": {},
   "source": [
    "### 3.3 Running data validation"
   ]
  },
  {
   "cell_type": "markdown",
   "id": "b183de3e",
   "metadata": {},
   "source": [
    "The following cell is used in legacy version when the action_list_operator needs to be defined in the great_expectations.yaml "
   ]
  },
  {
   "cell_type": "raw",
   "id": "676afad4",
   "metadata": {},
   "source": [
    "batch = ge.dataset.PandasDataset(df, expectation_suite=suite)\n",
    "\n",
    "results = data_context.run_validation_operator(\n",
    "    \"action_list_operator\", assets_to_validate=[batch]\n",
    ")\n",
    "validation_result_identifier = results.list_validation_result_identifiers()[0]"
   ]
  },
  {
   "cell_type": "markdown",
   "id": "45c512a2",
   "metadata": {},
   "source": [
    "#### Creating a new checkpoint in CLI\n",
    "> great_expectations --v3-api checkpoint new titanic_checkpoint"
   ]
  },
  {
   "cell_type": "code",
   "execution_count": null,
   "id": "af26c2d9",
   "metadata": {},
   "outputs": [],
   "source": [
    "batch = ge.dataset.PandasDataset(df, expectation_suite=suite)\n",
    "results = data_context.run_checkpoint(\n",
    "    checkpoint_name=\"titanic_checkpoint\"\n",
    ")\n",
    "validation_result_identifier = results.list_validation_result_identifiers()[0]"
   ]
  },
  {
   "cell_type": "markdown",
   "id": "6f13bd72",
   "metadata": {},
   "source": [
    "### 3.4 Building and opening data docs"
   ]
  },
  {
   "cell_type": "code",
   "execution_count": 7,
   "id": "3d64266f",
   "metadata": {},
   "outputs": [
    {
     "data": {
      "text/plain": [
       "{'local_site': 'file:///Users/yee/Dropbox/Python/ge_tutorials/great_expectations_pdprofiler/great_expectations/uncommitted/data_docs/local_site/index.html'}"
      ]
     },
     "execution_count": 7,
     "metadata": {},
     "output_type": "execute_result"
    }
   ],
   "source": [
    "data_context.build_data_docs()"
   ]
  },
  {
   "cell_type": "code",
   "execution_count": 8,
   "id": "395592e4",
   "metadata": {},
   "outputs": [],
   "source": [
    "data_context.open_data_docs(validation_result_identifier)"
   ]
  },
  {
   "cell_type": "code",
   "execution_count": null,
   "id": "833e67dd",
   "metadata": {},
   "outputs": [],
   "source": []
  }
 ],
 "metadata": {
  "kernelspec": {
   "display_name": "Python 3",
   "language": "python",
   "name": "python3"
  },
  "language_info": {
   "codemirror_mode": {
    "name": "ipython",
    "version": 3
   },
   "file_extension": ".py",
   "mimetype": "text/x-python",
   "name": "python",
   "nbconvert_exporter": "python",
   "pygments_lexer": "ipython3",
   "version": "3.8.5"
  }
 },
 "nbformat": 4,
 "nbformat_minor": 5
}
