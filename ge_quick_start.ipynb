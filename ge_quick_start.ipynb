{
 "cells": [
  {
   "cell_type": "code",
   "execution_count": 1,
   "id": "93685150",
   "metadata": {},
   "outputs": [],
   "source": [
    "import great_expectations as ge"
   ]
  },
  {
   "cell_type": "code",
   "execution_count": 2,
   "id": "165d98af",
   "metadata": {},
   "outputs": [],
   "source": [
    "import numpy as np\n",
    "import pandas as pd\n",
    "import os \n",
    "from IPython.core.interactiveshell import InteractiveShell\n",
    "InteractiveShell.ast_node_interactivity = \"all\""
   ]
  },
  {
   "cell_type": "code",
   "execution_count": 3,
   "id": "55d7e524",
   "metadata": {},
   "outputs": [
    {
     "data": {
      "text/html": [
       "<div>\n",
       "<style scoped>\n",
       "    .dataframe tbody tr th:only-of-type {\n",
       "        vertical-align: middle;\n",
       "    }\n",
       "\n",
       "    .dataframe tbody tr th {\n",
       "        vertical-align: top;\n",
       "    }\n",
       "\n",
       "    .dataframe thead th {\n",
       "        text-align: right;\n",
       "    }\n",
       "</style>\n",
       "<table border=\"1\" class=\"dataframe\">\n",
       "  <thead>\n",
       "    <tr style=\"text-align: right;\">\n",
       "      <th></th>\n",
       "      <th>pt_id</th>\n",
       "      <th>dos</th>\n",
       "      <th>dx_code</th>\n",
       "    </tr>\n",
       "  </thead>\n",
       "  <tbody>\n",
       "    <tr>\n",
       "      <th>0</th>\n",
       "      <td>13151</td>\n",
       "      <td>2018-04-10</td>\n",
       "      <td>H35.3231</td>\n",
       "    </tr>\n",
       "    <tr>\n",
       "      <th>1</th>\n",
       "      <td>13151</td>\n",
       "      <td>2018-05-22</td>\n",
       "      <td>H35.3231</td>\n",
       "    </tr>\n",
       "    <tr>\n",
       "      <th>2</th>\n",
       "      <td>13151</td>\n",
       "      <td>2018-07-17</td>\n",
       "      <td>H35.3220</td>\n",
       "    </tr>\n",
       "    <tr>\n",
       "      <th>3</th>\n",
       "      <td>13151</td>\n",
       "      <td>2018-09-25</td>\n",
       "      <td>H35.3220</td>\n",
       "    </tr>\n",
       "    <tr>\n",
       "      <th>4</th>\n",
       "      <td>13151</td>\n",
       "      <td>2018-12-18</td>\n",
       "      <td>H35.3220</td>\n",
       "    </tr>\n",
       "  </tbody>\n",
       "</table>\n",
       "</div>"
      ],
      "text/plain": [
       "   pt_id         dos   dx_code\n",
       "0  13151  2018-04-10  H35.3231\n",
       "1  13151  2018-05-22  H35.3231\n",
       "2  13151  2018-07-17  H35.3220\n",
       "3  13151  2018-09-25  H35.3220\n",
       "4  13151  2018-12-18  H35.3220"
      ]
     },
     "execution_count": 3,
     "metadata": {},
     "output_type": "execute_result"
    }
   ],
   "source": [
    "dx_df = ge.read_csv(\n",
    "    \"../../rwd_data_quality/data/diagnosis.csv\",\n",
    "     sep=\"\\t\")\n",
    "dx_df.head()"
   ]
  },
  {
   "cell_type": "code",
   "execution_count": 4,
   "id": "be0aa149",
   "metadata": {},
   "outputs": [
    {
     "data": {
      "text/plain": [
       "2016-06-29    60\n",
       "2016-01-08    50\n",
       "2016-08-16    48\n",
       "2015-12-21    48\n",
       "2015-11-23    45\n",
       "              ..\n",
       "2017-11-27     1\n",
       "2015-08-17     1\n",
       "2019-11-14     1\n",
       "2019-10-31     1\n",
       "2019-11-15     1\n",
       "Name: dos, Length: 685, dtype: int64"
      ]
     },
     "execution_count": 4,
     "metadata": {},
     "output_type": "execute_result"
    }
   ],
   "source": [
    "dx_df.dos.value_counts()"
   ]
  },
  {
   "cell_type": "markdown",
   "id": "f7680f89",
   "metadata": {},
   "source": [
    "## Diagnosis code of age-related macular degeneration \n",
    "\n",
    "* [ICD-10-CM](https://mdinteractive.com/MIPS_ophthalmology)"
   ]
  },
  {
   "cell_type": "code",
   "execution_count": 5,
   "id": "265befbc",
   "metadata": {},
   "outputs": [
    {
     "data": {
      "text/plain": [
       "{\n",
       "  \"result\": {\n",
       "    \"element_count\": 4672,\n",
       "    \"missing_count\": 0,\n",
       "    \"missing_percent\": 0.0,\n",
       "    \"unexpected_count\": 3379,\n",
       "    \"unexpected_percent\": 72.32448630136986,\n",
       "    \"unexpected_percent_total\": 72.32448630136986,\n",
       "    \"unexpected_percent_nonmissing\": 72.32448630136986,\n",
       "    \"partial_unexpected_list\": [\n",
       "      \"312912001\",\n",
       "      \"312912001\",\n",
       "      \"H35.3112\",\n",
       "      \"312912001\",\n",
       "      \"H43.811\",\n",
       "      \"H34.12\",\n",
       "      \"H35.81\",\n",
       "      \"H02.403\",\n",
       "      \"362.02\",\n",
       "      \"362.02\",\n",
       "      \"362.02\",\n",
       "      \"362.02\",\n",
       "      \"374.3\",\n",
       "      \"H02.403\",\n",
       "      \"H43.812\",\n",
       "      \"H04.123\",\n",
       "      \"H35.81\",\n",
       "      \"H25.13\",\n",
       "      \"H25.13\",\n",
       "      \"H43.813\"\n",
       "    ]\n",
       "  },\n",
       "  \"exception_info\": {\n",
       "    \"raised_exception\": false,\n",
       "    \"exception_traceback\": null,\n",
       "    \"exception_message\": null\n",
       "  },\n",
       "  \"meta\": {},\n",
       "  \"success\": false\n",
       "}"
      ]
     },
     "execution_count": 5,
     "metadata": {},
     "output_type": "execute_result"
    }
   ],
   "source": [
    "wamd_re = r\"(H35.?32)|(362.?52)|(414173003)|(h35.?32)\"\n",
    "#wamd_re = [r\"(H35.?32)\", r\"(362.?52)\", r\"(414173003)\"]\n",
    "dx_df.expect_column_values_to_match_regex('dx_code', wamd_re, mostly=1)"
   ]
  },
  {
   "cell_type": "code",
   "execution_count": 8,
   "id": "bd5b1c6d",
   "metadata": {},
   "outputs": [
    {
     "data": {
      "text/plain": [
       "{\n",
       "  \"result\": {\n",
       "    \"element_count\": 4672,\n",
       "    \"unexpected_count\": 0,\n",
       "    \"unexpected_percent\": 0.0,\n",
       "    \"unexpected_percent_total\": 0.0,\n",
       "    \"partial_unexpected_list\": []\n",
       "  },\n",
       "  \"exception_info\": {\n",
       "    \"raised_exception\": false,\n",
       "    \"exception_traceback\": null,\n",
       "    \"exception_message\": null\n",
       "  },\n",
       "  \"meta\": {},\n",
       "  \"success\": true\n",
       "}"
      ]
     },
     "execution_count": 8,
     "metadata": {},
     "output_type": "execute_result"
    }
   ],
   "source": [
    "dx_df.expect_column_values_to_not_be_null('dx_code')"
   ]
  },
  {
   "cell_type": "markdown",
   "id": "af5f81a4",
   "metadata": {},
   "source": [
    "## 2. Accessment of Patient Data"
   ]
  },
  {
   "cell_type": "code",
   "execution_count": 9,
   "id": "ede12005",
   "metadata": {},
   "outputs": [
    {
     "data": {
      "text/html": [
       "<div>\n",
       "<style scoped>\n",
       "    .dataframe tbody tr th:only-of-type {\n",
       "        vertical-align: middle;\n",
       "    }\n",
       "\n",
       "    .dataframe tbody tr th {\n",
       "        vertical-align: top;\n",
       "    }\n",
       "\n",
       "    .dataframe thead th {\n",
       "        text-align: right;\n",
       "    }\n",
       "</style>\n",
       "<table border=\"1\" class=\"dataframe\">\n",
       "  <thead>\n",
       "    <tr style=\"text-align: right;\">\n",
       "      <th></th>\n",
       "      <th>patientid</th>\n",
       "      <th>sex</th>\n",
       "    </tr>\n",
       "  </thead>\n",
       "  <tbody>\n",
       "    <tr>\n",
       "      <th>0</th>\n",
       "      <td>13151</td>\n",
       "      <td>Female</td>\n",
       "    </tr>\n",
       "    <tr>\n",
       "      <th>1</th>\n",
       "      <td>43463</td>\n",
       "      <td>Female</td>\n",
       "    </tr>\n",
       "    <tr>\n",
       "      <th>2</th>\n",
       "      <td>42834</td>\n",
       "      <td>Male</td>\n",
       "    </tr>\n",
       "    <tr>\n",
       "      <th>3</th>\n",
       "      <td>37531</td>\n",
       "      <td>Female</td>\n",
       "    </tr>\n",
       "    <tr>\n",
       "      <th>4</th>\n",
       "      <td>31613</td>\n",
       "      <td>Female</td>\n",
       "    </tr>\n",
       "  </tbody>\n",
       "</table>\n",
       "</div>"
      ],
      "text/plain": [
       "   patientid     sex\n",
       "0      13151  Female\n",
       "1      43463  Female\n",
       "2      42834    Male\n",
       "3      37531  Female\n",
       "4      31613  Female"
      ]
     },
     "execution_count": 9,
     "metadata": {},
     "output_type": "execute_result"
    },
    {
     "data": {
      "text/plain": [
       "(945, 2)"
      ]
     },
     "execution_count": 9,
     "metadata": {},
     "output_type": "execute_result"
    }
   ],
   "source": [
    "pt_df = ge.read_csv(\n",
    "    \"../../rwd_data_quality/data/patient.csv\",\n",
    "     sep=\"\\t\")\n",
    "pt_df.head()\n",
    "pt_df.shape"
   ]
  },
  {
   "cell_type": "code",
   "execution_count": 10,
   "id": "e8d3597b",
   "metadata": {},
   "outputs": [
    {
     "data": {
      "text/plain": [
       "{\n",
       "  \"result\": {\n",
       "    \"element_count\": 945,\n",
       "    \"missing_count\": 0,\n",
       "    \"missing_percent\": 0.0,\n",
       "    \"unexpected_count\": 24,\n",
       "    \"unexpected_percent\": 2.5396825396825395,\n",
       "    \"unexpected_percent_total\": 2.5396825396825395,\n",
       "    \"unexpected_percent_nonmissing\": 2.5396825396825395,\n",
       "    \"partial_unexpected_list\": [\n",
       "      \"female\",\n",
       "      \"f\",\n",
       "      \"male\",\n",
       "      \"female\",\n",
       "      \"female\",\n",
       "      \"f\",\n",
       "      \"female\",\n",
       "      \"female\",\n",
       "      \"male\",\n",
       "      \"male\",\n",
       "      \"male\",\n",
       "      \"female\",\n",
       "      \"male\",\n",
       "      \"male\",\n",
       "      \"male\",\n",
       "      \"male\",\n",
       "      \"male\",\n",
       "      \"f\",\n",
       "      \"M\",\n",
       "      \"female\"\n",
       "    ]\n",
       "  },\n",
       "  \"exception_info\": {\n",
       "    \"raised_exception\": false,\n",
       "    \"exception_traceback\": null,\n",
       "    \"exception_message\": null\n",
       "  },\n",
       "  \"meta\": {},\n",
       "  \"success\": false\n",
       "}"
      ]
     },
     "execution_count": 10,
     "metadata": {},
     "output_type": "execute_result"
    }
   ],
   "source": [
    "pt_df.expect_column_values_to_be_in_set('sex', ['Male', \"Female\", 'Not Reported'], mostly=1)"
   ]
  },
  {
   "cell_type": "markdown",
   "id": "36d340ac",
   "metadata": {},
   "source": [
    "## 2. Accessment of Procedure Data"
   ]
  },
  {
   "cell_type": "code",
   "execution_count": 11,
   "id": "366b3983",
   "metadata": {},
   "outputs": [
    {
     "data": {
      "text/html": [
       "<div>\n",
       "<style scoped>\n",
       "    .dataframe tbody tr th:only-of-type {\n",
       "        vertical-align: middle;\n",
       "    }\n",
       "\n",
       "    .dataframe tbody tr th {\n",
       "        vertical-align: top;\n",
       "    }\n",
       "\n",
       "    .dataframe thead th {\n",
       "        text-align: right;\n",
       "    }\n",
       "</style>\n",
       "<table border=\"1\" class=\"dataframe\">\n",
       "  <thead>\n",
       "    <tr style=\"text-align: right;\">\n",
       "      <th></th>\n",
       "      <th>patient_id</th>\n",
       "      <th>dos</th>\n",
       "      <th>procedure_code</th>\n",
       "      <th>mod</th>\n",
       "    </tr>\n",
       "  </thead>\n",
       "  <tbody>\n",
       "    <tr>\n",
       "      <th>0</th>\n",
       "      <td>10026</td>\n",
       "      <td>12/14/19</td>\n",
       "      <td>2027F</td>\n",
       "      <td>NaN</td>\n",
       "    </tr>\n",
       "    <tr>\n",
       "      <th>1</th>\n",
       "      <td>10026</td>\n",
       "      <td>11/13/19</td>\n",
       "      <td>92014</td>\n",
       "      <td>25</td>\n",
       "    </tr>\n",
       "    <tr>\n",
       "      <th>2</th>\n",
       "      <td>10026</td>\n",
       "      <td>11/6/19</td>\n",
       "      <td>G8427</td>\n",
       "      <td>NaN</td>\n",
       "    </tr>\n",
       "    <tr>\n",
       "      <th>3</th>\n",
       "      <td>10026</td>\n",
       "      <td>10/2/19</td>\n",
       "      <td>92134</td>\n",
       "      <td>NaN</td>\n",
       "    </tr>\n",
       "    <tr>\n",
       "      <th>4</th>\n",
       "      <td>10026</td>\n",
       "      <td>9/23/19</td>\n",
       "      <td>92014</td>\n",
       "      <td>25</td>\n",
       "    </tr>\n",
       "  </tbody>\n",
       "</table>\n",
       "</div>"
      ],
      "text/plain": [
       "   patient_id       dos procedure_code  mod\n",
       "0       10026  12/14/19          2027F  NaN\n",
       "1       10026  11/13/19          92014   25\n",
       "2       10026   11/6/19          G8427  NaN\n",
       "3       10026   10/2/19          92134  NaN\n",
       "4       10026   9/23/19          92014   25"
      ]
     },
     "execution_count": 11,
     "metadata": {},
     "output_type": "execute_result"
    },
    {
     "data": {
      "text/plain": [
       "(5222, 4)"
      ]
     },
     "execution_count": 11,
     "metadata": {},
     "output_type": "execute_result"
    }
   ],
   "source": [
    "pc_df = ge.read_csv(\n",
    "    \"../../rwd_data_quality/data/procedure.csv\",\n",
    "     sep=\"\\t\")\n",
    "pc_df.head()\n",
    "pc_df.shape"
   ]
  },
  {
   "cell_type": "code",
   "execution_count": 12,
   "id": "919b7cde",
   "metadata": {},
   "outputs": [
    {
     "data": {
      "text/plain": [
       "{\n",
       "  \"result\": {\n",
       "    \"element_count\": 5222,\n",
       "    \"unexpected_count\": 3760,\n",
       "    \"unexpected_percent\": 72.00306396016852,\n",
       "    \"unexpected_percent_total\": 72.00306396016852,\n",
       "    \"partial_unexpected_list\": []\n",
       "  },\n",
       "  \"exception_info\": {\n",
       "    \"raised_exception\": false,\n",
       "    \"exception_traceback\": null,\n",
       "    \"exception_message\": null\n",
       "  },\n",
       "  \"meta\": {},\n",
       "  \"success\": false\n",
       "}"
      ]
     },
     "execution_count": 12,
     "metadata": {},
     "output_type": "execute_result"
    },
    {
     "data": {
      "text/plain": [
       "{\n",
       "  \"result\": {\n",
       "    \"element_count\": 5222,\n",
       "    \"unexpected_count\": 0,\n",
       "    \"unexpected_percent\": 0.0,\n",
       "    \"unexpected_percent_total\": 0.0,\n",
       "    \"partial_unexpected_list\": []\n",
       "  },\n",
       "  \"exception_info\": {\n",
       "    \"raised_exception\": false,\n",
       "    \"exception_traceback\": null,\n",
       "    \"exception_message\": null\n",
       "  },\n",
       "  \"meta\": {},\n",
       "  \"success\": true\n",
       "}"
      ]
     },
     "execution_count": 12,
     "metadata": {},
     "output_type": "execute_result"
    },
    {
     "data": {
      "text/plain": [
       "{\n",
       "  \"result\": {\n",
       "    \"element_count\": 5222,\n",
       "    \"unexpected_count\": 0,\n",
       "    \"unexpected_percent\": 0.0,\n",
       "    \"unexpected_percent_total\": 0.0,\n",
       "    \"partial_unexpected_list\": []\n",
       "  },\n",
       "  \"exception_info\": {\n",
       "    \"raised_exception\": false,\n",
       "    \"exception_traceback\": null,\n",
       "    \"exception_message\": null\n",
       "  },\n",
       "  \"meta\": {},\n",
       "  \"success\": true\n",
       "}"
      ]
     },
     "execution_count": 12,
     "metadata": {},
     "output_type": "execute_result"
    },
    {
     "data": {
      "text/plain": [
       "{\n",
       "  \"result\": {\n",
       "    \"element_count\": 5222,\n",
       "    \"unexpected_count\": 0,\n",
       "    \"unexpected_percent\": 0.0,\n",
       "    \"unexpected_percent_total\": 0.0,\n",
       "    \"partial_unexpected_list\": []\n",
       "  },\n",
       "  \"exception_info\": {\n",
       "    \"raised_exception\": false,\n",
       "    \"exception_traceback\": null,\n",
       "    \"exception_message\": null\n",
       "  },\n",
       "  \"meta\": {},\n",
       "  \"success\": true\n",
       "}"
      ]
     },
     "execution_count": 12,
     "metadata": {},
     "output_type": "execute_result"
    }
   ],
   "source": [
    "pc_df.expect_column_values_to_not_be_null('mod', mostly=1)\n",
    "pc_df.expect_column_values_to_not_be_null('patient_id', mostly=1)\n",
    "pc_df.expect_column_values_to_not_be_null('dos', mostly=1)\n",
    "pc_df.expect_column_values_to_not_be_null('procedure_code', mostly=1)"
   ]
  },
  {
   "cell_type": "code",
   "execution_count": null,
   "id": "5b8c206b",
   "metadata": {},
   "outputs": [],
   "source": []
  }
 ],
 "metadata": {
  "kernelspec": {
   "display_name": "Python 3",
   "language": "python",
   "name": "python3"
  },
  "language_info": {
   "codemirror_mode": {
    "name": "ipython",
    "version": 3
   },
   "file_extension": ".py",
   "mimetype": "text/x-python",
   "name": "python",
   "nbconvert_exporter": "python",
   "pygments_lexer": "ipython3",
   "version": "3.8.5"
  }
 },
 "nbformat": 4,
 "nbformat_minor": 5
}
